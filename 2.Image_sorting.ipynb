{
 "cells": [
  {
   "cell_type": "code",
   "execution_count": 1,
   "id": "ad469887",
   "metadata": {},
   "outputs": [],
   "source": [
    "import pandas as pd"
   ]
  },
  {
   "cell_type": "code",
   "execution_count": 15,
   "id": "80c79361",
   "metadata": {},
   "outputs": [],
   "source": [
    "df = pd.read_csv('vinbigdata-chest-xray-abnormalities-detection/train.csv')"
   ]
  },
  {
   "cell_type": "code",
   "execution_count": 16,
   "id": "a10186e0",
   "metadata": {},
   "outputs": [
    {
     "name": "stdout",
     "output_type": "stream",
     "text": [
      "                           image_id          class_name  class_id rad_id  \\\n",
      "0  50a418190bc3fb1ef1633bf9678929b3          No finding        14    R11   \n",
      "1  21a10246a5ec7af151081d0cd6d65dc9          No finding        14     R7   \n",
      "2  9a5094b2563a1ef3ff50dc5c7ff71345        Cardiomegaly         3    R10   \n",
      "3  051132a778e61a86eb147c7c6f564dfe  Aortic enlargement         0    R10   \n",
      "4  063319de25ce7edb9b1c6b8881290140          No finding        14    R10   \n",
      "\n",
      "    x_min   y_min   x_max   y_max  \n",
      "0     NaN     NaN     NaN     NaN  \n",
      "1     NaN     NaN     NaN     NaN  \n",
      "2   691.0  1375.0  1653.0  1831.0  \n",
      "3  1264.0   743.0  1611.0  1019.0  \n",
      "4     NaN     NaN     NaN     NaN  \n"
     ]
    }
   ],
   "source": [
    "print(df.head())"
   ]
  },
  {
   "cell_type": "code",
   "execution_count": 17,
   "id": "f6c293ac",
   "metadata": {},
   "outputs": [],
   "source": [
    "sorted_df = pd.DataFrame(columns=['Image', 'Count'])"
   ]
  },
  {
   "cell_type": "code",
   "execution_count": 18,
   "id": "3b17d6ac",
   "metadata": {
    "scrolled": false
   },
   "outputs": [],
   "source": [
    "# Iterate through each unique image in the original dataframe\n",
    "for image in df['image_id'].unique():\n",
    "    \n",
    "    # Count how many times the image appears in the original dataframe\n",
    "    count = len(df[df['image_id'] == image])\n",
    "    \n",
    "    # Create a new dataframe with the image, count, and diseases\n",
    "    row_df = pd.DataFrame({'Image': [image], 'Count': [count]})\n",
    "    \n",
    "    # Add the new row dataframe to the sorted dataframe\n",
    "    sorted_df = pd.concat([sorted_df, row_df], ignore_index=True)\n"
   ]
  },
  {
   "cell_type": "code",
   "execution_count": 19,
   "id": "b49d3f72",
   "metadata": {},
   "outputs": [],
   "source": [
    "sorted_df = sorted_df.sort_values('Count', ascending=False)"
   ]
  },
  {
   "cell_type": "code",
   "execution_count": 20,
   "id": "b8724c55",
   "metadata": {},
   "outputs": [
    {
     "data": {
      "text/html": [
       "<div>\n",
       "<style scoped>\n",
       "    .dataframe tbody tr th:only-of-type {\n",
       "        vertical-align: middle;\n",
       "    }\n",
       "\n",
       "    .dataframe tbody tr th {\n",
       "        vertical-align: top;\n",
       "    }\n",
       "\n",
       "    .dataframe thead th {\n",
       "        text-align: right;\n",
       "    }\n",
       "</style>\n",
       "<table border=\"1\" class=\"dataframe\">\n",
       "  <thead>\n",
       "    <tr style=\"text-align: right;\">\n",
       "      <th></th>\n",
       "      <th>Image</th>\n",
       "      <th>Count</th>\n",
       "    </tr>\n",
       "  </thead>\n",
       "  <tbody>\n",
       "    <tr>\n",
       "      <th>722</th>\n",
       "      <td>03e6ecfa6f6fb33dfeac6ca4f9b459c9</td>\n",
       "      <td>57</td>\n",
       "    </tr>\n",
       "    <tr>\n",
       "      <th>1034</th>\n",
       "      <td>fa109c087e46fe1ea27e48ce6d154d2f</td>\n",
       "      <td>52</td>\n",
       "    </tr>\n",
       "    <tr>\n",
       "      <th>484</th>\n",
       "      <td>e31be972e181987a8600a8700c1ebe88</td>\n",
       "      <td>48</td>\n",
       "    </tr>\n",
       "    <tr>\n",
       "      <th>988</th>\n",
       "      <td>6d5acf3f8a973a26844d617fffe72998</td>\n",
       "      <td>46</td>\n",
       "    </tr>\n",
       "    <tr>\n",
       "      <th>236</th>\n",
       "      <td>3a302fbbbf3364aa1a7731b59e6b98ec</td>\n",
       "      <td>46</td>\n",
       "    </tr>\n",
       "  </tbody>\n",
       "</table>\n",
       "</div>"
      ],
      "text/plain": [
       "                                 Image Count\n",
       "722   03e6ecfa6f6fb33dfeac6ca4f9b459c9    57\n",
       "1034  fa109c087e46fe1ea27e48ce6d154d2f    52\n",
       "484   e31be972e181987a8600a8700c1ebe88    48\n",
       "988   6d5acf3f8a973a26844d617fffe72998    46\n",
       "236   3a302fbbbf3364aa1a7731b59e6b98ec    46"
      ]
     },
     "execution_count": 20,
     "metadata": {},
     "output_type": "execute_result"
    }
   ],
   "source": [
    "sorted_df.head()"
   ]
  },
  {
   "cell_type": "code",
   "execution_count": 25,
   "id": "67212973",
   "metadata": {},
   "outputs": [
    {
     "data": {
      "text/html": [
       "<div>\n",
       "<style scoped>\n",
       "    .dataframe tbody tr th:only-of-type {\n",
       "        vertical-align: middle;\n",
       "    }\n",
       "\n",
       "    .dataframe tbody tr th {\n",
       "        vertical-align: top;\n",
       "    }\n",
       "\n",
       "    .dataframe thead th {\n",
       "        text-align: right;\n",
       "    }\n",
       "</style>\n",
       "<table border=\"1\" class=\"dataframe\">\n",
       "  <thead>\n",
       "    <tr style=\"text-align: right;\">\n",
       "      <th></th>\n",
       "      <th>Image</th>\n",
       "      <th>Count</th>\n",
       "    </tr>\n",
       "  </thead>\n",
       "  <tbody>\n",
       "    <tr>\n",
       "      <th>6544</th>\n",
       "      <td>be353c629cd9b269bbcb6623339283ae</td>\n",
       "      <td>3</td>\n",
       "    </tr>\n",
       "    <tr>\n",
       "      <th>6545</th>\n",
       "      <td>43b0f51d257ee4154014ef7724a82644</td>\n",
       "      <td>3</td>\n",
       "    </tr>\n",
       "    <tr>\n",
       "      <th>6546</th>\n",
       "      <td>9a4ed54cefaea64fc59bf8debdc79ec9</td>\n",
       "      <td>3</td>\n",
       "    </tr>\n",
       "    <tr>\n",
       "      <th>6548</th>\n",
       "      <td>3018e6640df6a1e3f9978cf55c8d0fd3</td>\n",
       "      <td>3</td>\n",
       "    </tr>\n",
       "    <tr>\n",
       "      <th>14999</th>\n",
       "      <td>839b2311ffad9bdd9aa98c74aad6e251</td>\n",
       "      <td>3</td>\n",
       "    </tr>\n",
       "  </tbody>\n",
       "</table>\n",
       "</div>"
      ],
      "text/plain": [
       "                                  Image Count\n",
       "6544   be353c629cd9b269bbcb6623339283ae     3\n",
       "6545   43b0f51d257ee4154014ef7724a82644     3\n",
       "6546   9a4ed54cefaea64fc59bf8debdc79ec9     3\n",
       "6548   3018e6640df6a1e3f9978cf55c8d0fd3     3\n",
       "14999  839b2311ffad9bdd9aa98c74aad6e251     3"
      ]
     },
     "execution_count": 25,
     "metadata": {},
     "output_type": "execute_result"
    }
   ],
   "source": [
    "sorted_df.tail()"
   ]
  },
  {
   "cell_type": "code",
   "execution_count": 21,
   "id": "09b7c58d",
   "metadata": {},
   "outputs": [],
   "source": [
    "sorted_df.to_csv('outputs/sorted_file.csv', index=False)"
   ]
  },
  {
   "cell_type": "code",
   "execution_count": 22,
   "id": "15707f4e",
   "metadata": {},
   "outputs": [
    {
     "name": "stdout",
     "output_type": "stream",
     "text": [
      "Total count of all images: 67914\n"
     ]
    }
   ],
   "source": [
    "# Calculate the total of the 'Count' column\n",
    "total_count = sorted_df['Count'].sum()\n",
    "print(\"Total count of all images:\", total_count)"
   ]
  },
  {
   "cell_type": "code",
   "execution_count": 23,
   "id": "9dcb4109",
   "metadata": {},
   "outputs": [
    {
     "name": "stdout",
     "output_type": "stream",
     "text": [
      "Number of rows in the dataset: 15000\n"
     ]
    }
   ],
   "source": [
    "# Get the number of rows in the dataset\n",
    "num_rows = sorted_df.shape[0]\n",
    "print(\"Number of rows in the dataset:\", num_rows)"
   ]
  },
  {
   "cell_type": "markdown",
   "id": "80c5895c",
   "metadata": {},
   "source": [
    "<h1>Conclusion</h1>"
   ]
  },
  {
   "cell_type": "markdown",
   "id": "fe2dfc0c",
   "metadata": {},
   "source": [
    "**There are 15000 unique images in dataset.\n",
    "Each image contains min 3 max 57 diagnoses.**"
   ]
  },
  {
   "cell_type": "code",
   "execution_count": null,
   "id": "f07a1d98",
   "metadata": {},
   "outputs": [],
   "source": []
  }
 ],
 "metadata": {
  "kernelspec": {
   "display_name": "Python thesis-env",
   "language": "python",
   "name": "thesis-env"
  },
  "language_info": {
   "codemirror_mode": {
    "name": "ipython",
    "version": 3
   },
   "file_extension": ".py",
   "mimetype": "text/x-python",
   "name": "python",
   "nbconvert_exporter": "python",
   "pygments_lexer": "ipython3",
   "version": "3.8.18"
  }
 },
 "nbformat": 4,
 "nbformat_minor": 5
}
