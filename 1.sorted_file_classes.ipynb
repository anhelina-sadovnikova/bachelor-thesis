{
 "cells": [
  {
   "cell_type": "code",
   "execution_count": 1,
   "id": "9afd24bf",
   "metadata": {},
   "outputs": [],
   "source": [
    "import pandas as pd"
   ]
  },
  {
   "cell_type": "code",
   "execution_count": 9,
   "id": "e22e253d",
   "metadata": {},
   "outputs": [],
   "source": [
    "df = pd.read_csv('vinbigdata-chest-xray-abnormalities-detection/train.csv')"
   ]
  },
  {
   "cell_type": "code",
   "execution_count": 10,
   "id": "332b0b59",
   "metadata": {},
   "outputs": [
    {
     "name": "stdout",
     "output_type": "stream",
     "text": [
      "                           image_id          class_name  class_id rad_id  \\\n",
      "0  50a418190bc3fb1ef1633bf9678929b3          No finding        14    R11   \n",
      "1  21a10246a5ec7af151081d0cd6d65dc9          No finding        14     R7   \n",
      "2  9a5094b2563a1ef3ff50dc5c7ff71345        Cardiomegaly         3    R10   \n",
      "3  051132a778e61a86eb147c7c6f564dfe  Aortic enlargement         0    R10   \n",
      "4  063319de25ce7edb9b1c6b8881290140          No finding        14    R10   \n",
      "\n",
      "    x_min   y_min   x_max   y_max  \n",
      "0     NaN     NaN     NaN     NaN  \n",
      "1     NaN     NaN     NaN     NaN  \n",
      "2   691.0  1375.0  1653.0  1831.0  \n",
      "3  1264.0   743.0  1611.0  1019.0  \n",
      "4     NaN     NaN     NaN     NaN  \n"
     ]
    }
   ],
   "source": [
    "print(df.head())"
   ]
  },
  {
   "cell_type": "code",
   "execution_count": 11,
   "id": "8a59ecd4",
   "metadata": {},
   "outputs": [],
   "source": [
    "sorted_df = pd.DataFrame(columns=['Classes', 'Count'])"
   ]
  },
  {
   "cell_type": "code",
   "execution_count": 12,
   "id": "1c925ee8",
   "metadata": {},
   "outputs": [],
   "source": [
    "for disease in df['class_name'].unique():\n",
    "    \n",
    "    # Count how many times the image appears in the original dataframe\n",
    "    count = len(df[df['class_name'] == disease])\n",
    "    \n",
    "    # Create a new dataframe with the image, count, and diseases\n",
    "    row_df = pd.DataFrame({'Classes': [disease], 'Count': [count]})\n",
    "    \n",
    "    # Add the new row dataframe to the sorted dataframe\n",
    "    sorted_df = pd.concat([sorted_df, row_df], ignore_index=True)\n"
   ]
  },
  {
   "cell_type": "code",
   "execution_count": 13,
   "id": "eeac3f49",
   "metadata": {},
   "outputs": [],
   "source": [
    "sorted_df = sorted_df.sort_values('Count', ascending=False)"
   ]
  },
  {
   "cell_type": "code",
   "execution_count": 14,
   "id": "9b09aed7",
   "metadata": {},
   "outputs": [
    {
     "data": {
      "text/html": [
       "<div>\n",
       "<style scoped>\n",
       "    .dataframe tbody tr th:only-of-type {\n",
       "        vertical-align: middle;\n",
       "    }\n",
       "\n",
       "    .dataframe tbody tr th {\n",
       "        vertical-align: top;\n",
       "    }\n",
       "\n",
       "    .dataframe thead th {\n",
       "        text-align: right;\n",
       "    }\n",
       "</style>\n",
       "<table border=\"1\" class=\"dataframe\">\n",
       "  <thead>\n",
       "    <tr style=\"text-align: right;\">\n",
       "      <th></th>\n",
       "      <th>Classes</th>\n",
       "      <th>Count</th>\n",
       "    </tr>\n",
       "  </thead>\n",
       "  <tbody>\n",
       "    <tr>\n",
       "      <th>0</th>\n",
       "      <td>No finding</td>\n",
       "      <td>31818</td>\n",
       "    </tr>\n",
       "    <tr>\n",
       "      <th>2</th>\n",
       "      <td>Aortic enlargement</td>\n",
       "      <td>7162</td>\n",
       "    </tr>\n",
       "    <tr>\n",
       "      <th>1</th>\n",
       "      <td>Cardiomegaly</td>\n",
       "      <td>5427</td>\n",
       "    </tr>\n",
       "    <tr>\n",
       "      <th>3</th>\n",
       "      <td>Pleural thickening</td>\n",
       "      <td>4842</td>\n",
       "    </tr>\n",
       "    <tr>\n",
       "      <th>6</th>\n",
       "      <td>Pulmonary fibrosis</td>\n",
       "      <td>4655</td>\n",
       "    </tr>\n",
       "    <tr>\n",
       "      <th>5</th>\n",
       "      <td>Nodule/Mass</td>\n",
       "      <td>2580</td>\n",
       "    </tr>\n",
       "    <tr>\n",
       "      <th>7</th>\n",
       "      <td>Lung Opacity</td>\n",
       "      <td>2483</td>\n",
       "    </tr>\n",
       "    <tr>\n",
       "      <th>11</th>\n",
       "      <td>Pleural effusion</td>\n",
       "      <td>2476</td>\n",
       "    </tr>\n",
       "    <tr>\n",
       "      <th>9</th>\n",
       "      <td>Other lesion</td>\n",
       "      <td>2203</td>\n",
       "    </tr>\n",
       "    <tr>\n",
       "      <th>10</th>\n",
       "      <td>Infiltration</td>\n",
       "      <td>1247</td>\n",
       "    </tr>\n",
       "    <tr>\n",
       "      <th>4</th>\n",
       "      <td>ILD</td>\n",
       "      <td>1000</td>\n",
       "    </tr>\n",
       "    <tr>\n",
       "      <th>12</th>\n",
       "      <td>Calcification</td>\n",
       "      <td>960</td>\n",
       "    </tr>\n",
       "    <tr>\n",
       "      <th>13</th>\n",
       "      <td>Consolidation</td>\n",
       "      <td>556</td>\n",
       "    </tr>\n",
       "    <tr>\n",
       "      <th>8</th>\n",
       "      <td>Atelectasis</td>\n",
       "      <td>279</td>\n",
       "    </tr>\n",
       "    <tr>\n",
       "      <th>14</th>\n",
       "      <td>Pneumothorax</td>\n",
       "      <td>226</td>\n",
       "    </tr>\n",
       "  </tbody>\n",
       "</table>\n",
       "</div>"
      ],
      "text/plain": [
       "               Classes  Count\n",
       "0           No finding  31818\n",
       "2   Aortic enlargement   7162\n",
       "1         Cardiomegaly   5427\n",
       "3   Pleural thickening   4842\n",
       "6   Pulmonary fibrosis   4655\n",
       "5          Nodule/Mass   2580\n",
       "7         Lung Opacity   2483\n",
       "11    Pleural effusion   2476\n",
       "9         Other lesion   2203\n",
       "10        Infiltration   1247\n",
       "4                  ILD   1000\n",
       "12       Calcification    960\n",
       "13       Consolidation    556\n",
       "8          Atelectasis    279\n",
       "14        Pneumothorax    226"
      ]
     },
     "execution_count": 14,
     "metadata": {},
     "output_type": "execute_result"
    }
   ],
   "source": [
    "sorted_df"
   ]
  },
  {
   "cell_type": "code",
   "execution_count": 15,
   "id": "f8dbc1b1",
   "metadata": {},
   "outputs": [],
   "source": [
    "sorted_df.to_csv('outputs/sorted_file_classes.csv', index=False)"
   ]
  },
  {
   "cell_type": "code",
   "execution_count": null,
   "id": "abd57bf1",
   "metadata": {},
   "outputs": [],
   "source": []
  }
 ],
 "metadata": {
  "kernelspec": {
   "display_name": "Python thesis-env",
   "language": "python",
   "name": "thesis-env"
  },
  "language_info": {
   "codemirror_mode": {
    "name": "ipython",
    "version": 3
   },
   "file_extension": ".py",
   "mimetype": "text/x-python",
   "name": "python",
   "nbconvert_exporter": "python",
   "pygments_lexer": "ipython3",
   "version": "3.8.18"
  }
 },
 "nbformat": 4,
 "nbformat_minor": 5
}
