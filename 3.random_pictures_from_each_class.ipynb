{
 "cells": [
  {
   "cell_type": "code",
   "execution_count": 11,
   "id": "68320e56",
   "metadata": {},
   "outputs": [],
   "source": [
    "import pandas as pd\n",
    "import random"
   ]
  },
  {
   "cell_type": "code",
   "execution_count": 12,
   "id": "3e352667",
   "metadata": {},
   "outputs": [],
   "source": [
    "df = pd.read_csv('train.csv')"
   ]
  },
  {
   "cell_type": "code",
   "execution_count": 13,
   "id": "ee4c79d0",
   "metadata": {},
   "outputs": [
    {
     "name": "stdout",
     "output_type": "stream",
     "text": [
      "                           image_id          class_name  class_id rad_id  \\\n",
      "0  50a418190bc3fb1ef1633bf9678929b3          No finding        14    R11   \n",
      "1  21a10246a5ec7af151081d0cd6d65dc9          No finding        14     R7   \n",
      "2  9a5094b2563a1ef3ff50dc5c7ff71345        Cardiomegaly         3    R10   \n",
      "3  051132a778e61a86eb147c7c6f564dfe  Aortic enlargement         0    R10   \n",
      "4  063319de25ce7edb9b1c6b8881290140          No finding        14    R10   \n",
      "\n",
      "    x_min   y_min   x_max   y_max  \n",
      "0     NaN     NaN     NaN     NaN  \n",
      "1     NaN     NaN     NaN     NaN  \n",
      "2   691.0  1375.0  1653.0  1831.0  \n",
      "3  1264.0   743.0  1611.0  1019.0  \n",
      "4     NaN     NaN     NaN     NaN  \n"
     ]
    }
   ],
   "source": [
    "print(df.head())"
   ]
  },
  {
   "cell_type": "code",
   "execution_count": null,
   "id": "9c233386",
   "metadata": {},
   "outputs": [],
   "source": []
  },
  {
   "cell_type": "code",
   "execution_count": 85,
   "id": "8a1dc048",
   "metadata": {},
   "outputs": [],
   "source": [
    "# Filter the table based on class_name\n",
    "filtered_df = df[df['class_name'] == 'Calcification']"
   ]
  },
  {
   "cell_type": "code",
   "execution_count": 86,
   "id": "748c996d",
   "metadata": {},
   "outputs": [],
   "source": [
    "#all_df = pd.DataFrame()\n",
    "#all_df['Class'] = filtered_df['class_name']\n",
    "#all_df['ID'] = filtered_df['image_id']"
   ]
  },
  {
   "cell_type": "code",
   "execution_count": 87,
   "id": "771e3d04",
   "metadata": {},
   "outputs": [],
   "source": [
    "# Save the filtered table to nofindingall.csv\n",
    "#all_df.to_csv('Atelectasis.csv', index=False)"
   ]
  },
  {
   "cell_type": "code",
   "execution_count": 88,
   "id": "67dc36a1",
   "metadata": {},
   "outputs": [],
   "source": [
    "# Select 500 random pictures from nofindingall.csv\n",
    "random_df = filtered_df.sample(n=600, random_state=42)"
   ]
  },
  {
   "cell_type": "code",
   "execution_count": 89,
   "id": "3a827432",
   "metadata": {},
   "outputs": [],
   "source": [
    "# Create a new table with columns 'Class' and 'ID'\n",
    "new_df = pd.DataFrame()\n",
    "new_df['Class'] = random_df['class_name']\n",
    "new_df['ID'] = random_df['image_id']"
   ]
  },
  {
   "cell_type": "code",
   "execution_count": 90,
   "id": "c8758771",
   "metadata": {},
   "outputs": [],
   "source": [
    "# Save the new table to nofinding500.csv\n",
    "new_df.to_csv('Calcification_600.csv', index=False)"
   ]
  },
  {
   "cell_type": "code",
   "execution_count": 91,
   "id": "bcc325ed",
   "metadata": {},
   "outputs": [
    {
     "name": "stdout",
     "output_type": "stream",
     "text": [
      "Total pictures: 600\n",
      "Unique pictures: 341\n",
      "\n",
      "Non-unique images:\n",
      "Image ID: e31be972e181987a8600a8700c1ebe88 - Count: 13\n",
      "Image ID: dfd523a5991fc852654bf1235c6282c6 - Count: 12\n",
      "Image ID: c41d4f698ccccbf7068c44c8c14f4e16 - Count: 8\n",
      "Image ID: 9b9fafab95a68b7dd80a22f337245a93 - Count: 7\n",
      "Image ID: df2e21b90ce0510ed66e161136cf60ad - Count: 6\n",
      "Image ID: 675d4dfbc02d948b3be479815f560c2e - Count: 6\n",
      "Image ID: e62c07fde352cc658af3f989fe0b546f - Count: 6\n",
      "Image ID: 5766dfc49e91557e8cd4a06a406b8890 - Count: 6\n",
      "Image ID: 6e4915e84e38de5d90efe0ecfd8f2cf6 - Count: 6\n",
      "Image ID: 9fd7f8bc66d606ffee290028c4d5d1f3 - Count: 5\n",
      "Image ID: 3052424d097d8b94d387a20248639d47 - Count: 5\n",
      "Image ID: 813a6d586e217397402e45009ec068e3 - Count: 5\n",
      "Image ID: d5331c5488785e73b81760e5418a192d - Count: 5\n",
      "Image ID: da43f621e092ce20c96b5f4efcc2ea43 - Count: 5\n",
      "Image ID: af9a9224cf1f0dd1bacdb95a1b8ea36b - Count: 4\n",
      "Image ID: d1dfd6ac02ac34ebaf9788ec9b2de1f3 - Count: 4\n",
      "Image ID: e0c85d5a6ff74851b3b1ebdfceca5f48 - Count: 4\n",
      "Image ID: 64a46917dfbd81f3747a1635f47f622d - Count: 4\n",
      "Image ID: b527a2b66bb1c7a3c31fd9b1fe665712 - Count: 4\n",
      "Image ID: 80caa435b6ab5edaff4a0a758ffaec6e - Count: 4\n",
      "Image ID: 9d41ae882fa21638f67228ff85cb05ab - Count: 4\n",
      "Image ID: 2e285b95faad220e17e6cbfbe514733e - Count: 4\n",
      "Image ID: 6c35a010256b29d6db4956f5bffff4a2 - Count: 4\n",
      "Image ID: 53be245b32ccb6e9cfd1bee68969fcd5 - Count: 4\n",
      "Image ID: fb31baa6cb3084cb283c11ee81c32f22 - Count: 4\n",
      "Image ID: 906a43ceed5a95c81a94cc7c6ea41027 - Count: 4\n",
      "Image ID: 0e6da52d629393b3bcf24d8e99c1ea3f - Count: 4\n",
      "Image ID: c7d940c13f1be3feeb46adb7e8206de9 - Count: 4\n",
      "Image ID: f9e722d2706d42998afff41568223a01 - Count: 4\n",
      "Image ID: da4cfaa6343960e89066e60b678bbbd7 - Count: 4\n",
      "Image ID: 0a425edf1164ad0a73e8b092c4cc8b3b - Count: 4\n",
      "Image ID: 1606093b9d036cda7e30316ada6ea2cf - Count: 3\n",
      "Image ID: 5a43f10c267152bdbf23851b50c1c52d - Count: 3\n",
      "Image ID: 492c436c00725c4c909ec6fbc9223b92 - Count: 3\n",
      "Image ID: 181a28291c7bc0a6a721a5759c01fd34 - Count: 3\n",
      "Image ID: 9b1d076abcb937c2e19f7c2e10dbcbc0 - Count: 3\n",
      "Image ID: 316b07c8233162f6c57b23d94b823ea8 - Count: 3\n",
      "Image ID: b76de23d23b7418566348c413efa1a3f - Count: 3\n",
      "Image ID: d07557904cbe57fc1bdebac1e8aeefa1 - Count: 3\n",
      "Image ID: 659e8fa4b3d038c98fbfc0ab4cfcd411 - Count: 3\n",
      "Image ID: 04aed38b30c4de9461c8a9940e99d811 - Count: 3\n",
      "Image ID: e29eceb0a991c17d07de2fe27a8ddf44 - Count: 3\n",
      "Image ID: 9306d40fe3b77bd159c6ab92c0a306c8 - Count: 3\n",
      "Image ID: 654957991bdf2ede340cc5335285be5f - Count: 3\n",
      "Image ID: 93ed73782bc23a0ef9c426c21982d8d7 - Count: 3\n",
      "Image ID: 91e721ea0143333c5efe5dfb8ca98746 - Count: 3\n",
      "Image ID: b75b0115ce7e890c8d3cc739cfc8c089 - Count: 3\n",
      "Image ID: 6833c509c10b569d6167db70b83ee5d5 - Count: 3\n",
      "Image ID: 9e90a23fb8d5ce13eb766d538afcafea - Count: 3\n",
      "Image ID: 9ca2725b69db57ebc2df26a7da70affb - Count: 3\n",
      "Image ID: d8b297c773294eb23707c0a7f693c5fc - Count: 3\n",
      "Image ID: fa7d454b6cb43448ed5a8da49df6ce05 - Count: 3\n",
      "Image ID: 1625249b80df13df89d06b2c30877a1e - Count: 3\n",
      "Image ID: 63cf713d392ce347a329b20e8bd4782b - Count: 3\n",
      "Image ID: f3bdfeef73cd67f5583466d3df2829df - Count: 3\n",
      "Image ID: c7afdce95181c731e79f72d4ad6d4447 - Count: 3\n",
      "Image ID: 498ac0c4815a890629cf509446a47238 - Count: 3\n",
      "Image ID: a1df46be5ace1fcd65a304d44f83a1a6 - Count: 3\n",
      "Image ID: 1fec989e95cea875cef982129f8e9097 - Count: 3\n",
      "Image ID: 152cc961492edc9e778b6c337f971258 - Count: 2\n",
      "Image ID: 8e8f6687544bfcd254e60e5e28b260d6 - Count: 2\n",
      "Image ID: 613fd7f3a8b48248d4027c90a414ff9a - Count: 2\n",
      "Image ID: ecd11f0b7b55d7d0515fb569cbcc39d8 - Count: 2\n",
      "Image ID: ecae6af88e3b859c906e9b149a422b3f - Count: 2\n",
      "Image ID: a9ed4b5aaf129325369ebae1cfd5e321 - Count: 2\n",
      "Image ID: 91f1c20e4e0753f19022f919014aaa3d - Count: 2\n",
      "Image ID: ab4146d29b600f971b22f88b9852ae0a - Count: 2\n",
      "Image ID: 5de91fab780d937e6cba46c4e807bb12 - Count: 2\n",
      "Image ID: 0061cf6d35e253b6e7f03940592cc35e - Count: 2\n",
      "Image ID: dd1ec1034edd4e6b9696ea5cbeca6168 - Count: 2\n",
      "Image ID: 33911feed1282c67d5096d50d9070592 - Count: 2\n",
      "Image ID: 642617909307cc0ba39930495ed65a41 - Count: 2\n",
      "Image ID: b1e63a68c95bda1c50667decd3989ca0 - Count: 2\n",
      "Image ID: 756afb66aecaf0675273016e8991d8d4 - Count: 2\n",
      "Image ID: d1e95f585e1094cb8ddf94c1d97a4d1a - Count: 2\n",
      "Image ID: a9b3444f50e7ab612641a6fe1e4f8cb9 - Count: 2\n",
      "Image ID: 50f315c754b3530ac3c9bac3e96b22ac - Count: 2\n",
      "Image ID: bde911be299cef4ecbdf6c63af33cdf6 - Count: 2\n",
      "Image ID: 5dfb216441a8b99cf5e617ba76cf164a - Count: 2\n",
      "Image ID: 55fb526d34d6a1397c64f537883fefec - Count: 2\n",
      "Image ID: 23f29659e174d2c4651857bf304a5d75 - Count: 2\n",
      "Image ID: aacb56677ce974f054fdb59c5c39af10 - Count: 2\n",
      "Image ID: 3cf29ab62dd4b9866c7e055c59098d3e - Count: 2\n",
      "Image ID: ef50301bda56ee37e33b99fde2be8c7f - Count: 2\n",
      "Image ID: a2a8071358cf2858d45596364fd4ec85 - Count: 2\n",
      "Image ID: d3dfd38de2eecc6492fa8101d8245b76 - Count: 2\n",
      "Image ID: 1d7ba4000ddf7f707822b2aab9ed4b36 - Count: 2\n",
      "Image ID: 7cc9b48563e197c84ec4ee8d30d5b3ce - Count: 2\n",
      "Image ID: 61eda4cf19454682248154196d27cf07 - Count: 2\n",
      "Image ID: 6cf076d01340d69f77857cd4708692d1 - Count: 2\n",
      "Image ID: b8e5248b4e87c2775642f2b5c7bdbade - Count: 2\n",
      "Image ID: 5170326726acc5b2f50c4426417f3b23 - Count: 2\n",
      "Image ID: b71274108d1bfb8bf7a96b8f512da72b - Count: 2\n",
      "Image ID: 3d100048eee5507768634d2733c59b6a - Count: 2\n",
      "Image ID: bc2be005526db7ab9d5ec6741ddee945 - Count: 2\n",
      "Image ID: a9f2816d377349f221a96f46c728d36e - Count: 2\n",
      "Image ID: 70485d0ffe6e2b1d90b6127c5c023f18 - Count: 2\n",
      "Image ID: 985aa6789515f5ad438d2384ed52cda9 - Count: 2\n",
      "Image ID: aa974c2b6ea5fcf05bab269a9c9d4437 - Count: 2\n",
      "Image ID: bc87ef332a3c532a7e86893cae30e127 - Count: 2\n",
      "Image ID: 996cf9196ebda9f2b449e2ec38ac17c4 - Count: 2\n",
      "Image ID: 9c314e403d3e6e3ed09e79a57019f9ad - Count: 2\n",
      "Image ID: 411720e11033999fe479d1c1a66819e9 - Count: 2\n",
      "Image ID: d8bed8c7cbb164f7e8dcc5708ef41f7b - Count: 2\n",
      "Image ID: 54513c2ba05c261ea2b2a87455634b1c - Count: 2\n",
      "Image ID: 2a8be2bd51a3851ed0ce9c84e9a62426 - Count: 2\n",
      "Image ID: 23c9516db65572bae3125bcaead302d3 - Count: 2\n",
      "Image ID: 1066a058b5bae597f2dbb33780c2577d - Count: 2\n",
      "Image ID: e2ec7fc4c6f718c7da540ee96d64b724 - Count: 2\n",
      "Image ID: c772fcde08c1e9cb49ab6c11b8fe6e42 - Count: 2\n",
      "Image ID: 18a3dd5dcbabc9484be39f9f2f6c0756 - Count: 2\n",
      "Image ID: dc0fcb0e8d98ec8065bee19fb06670df - Count: 2\n",
      "Image ID: ce2c97cafc1a2ef349e996e91abd554a - Count: 2\n",
      "Image ID: f62a549cbf9dedb3a5990a691bd7c27a - Count: 2\n",
      "Image ID: 47a50643e0ffee2204984ca1ac6bccf0 - Count: 2\n",
      "Image ID: 806c20c1d5b38e2ca7941854ec66659f - Count: 2\n",
      "Image ID: 1fce42f55a0de66eb161fc831cd33cc3 - Count: 2\n",
      "Image ID: 9852b93d2e984a4c427f7d14be534717 - Count: 2\n",
      "Image ID: c0440c09698f89df168dc146af067fe7 - Count: 2\n",
      "Image ID: b1e31fb059b5a49bb70bb4f274c56841 - Count: 2\n",
      "Image ID: 0f186e3eba8d9ebd51feed957204ddbf - Count: 2\n",
      "Image ID: 0a411e44ec67f3d5d80a5b3d5a3edca3 - Count: 2\n",
      "Image ID: 6056fe4eed40998cc745482220bd33a6 - Count: 2\n",
      "Image ID: ee387adc8e34dcbb696539dcbb626a9d - Count: 2\n",
      "Image ID: 6a21c27cbd42e68576a134fca3c0266e - Count: 2\n",
      "Image ID: edb61d8f85f46f6da703ab9730bf35b1 - Count: 2\n",
      "Image ID: 3b8e32e6bb1f8849af9fde0925b2761a - Count: 2\n",
      "Image ID: bd24133a5c72fdd62ad820445627b718 - Count: 2\n",
      "Image ID: 8e3006f8c3906fc969d4aa9aeb31f586 - Count: 2\n",
      "Image ID: c5ad7caaee32f3d5647a993ab299b1c1 - Count: 2\n"
     ]
    }
   ],
   "source": [
    "# Print the total number of pictures\n",
    "total_pictures = len(new_df)\n",
    "print(\"Total pictures:\", total_pictures)\n",
    "\n",
    "# Print the number of unique pictures\n",
    "unique_pictures = new_df['ID'].nunique()\n",
    "print(\"Unique pictures:\", unique_pictures)\n",
    "\n",
    "# Find non-unique images and their counts\n",
    "non_unique_images = new_df[new_df.duplicated(subset='ID', keep=False)]\n",
    "image_counts = non_unique_images['ID'].value_counts()\n",
    "\n",
    "# Print the list of non-unique images and their counts\n",
    "print(\"\\nNon-unique images:\")\n",
    "for image_id, count in image_counts.items():\n",
    "    print(f\"Image ID: {image_id} - Count: {count}\")"
   ]
  },
  {
   "cell_type": "code",
   "execution_count": null,
   "id": "ea9fcd32",
   "metadata": {},
   "outputs": [],
   "source": []
  },
  {
   "cell_type": "code",
   "execution_count": null,
   "id": "51cc7026",
   "metadata": {},
   "outputs": [],
   "source": []
  },
  {
   "cell_type": "code",
   "execution_count": null,
   "id": "441a819c",
   "metadata": {},
   "outputs": [],
   "source": []
  }
 ],
 "metadata": {
  "kernelspec": {
   "display_name": "Python 3 (ipykernel)",
   "language": "python",
   "name": "python3"
  },
  "language_info": {
   "codemirror_mode": {
    "name": "ipython",
    "version": 3
   },
   "file_extension": ".py",
   "mimetype": "text/x-python",
   "name": "python",
   "nbconvert_exporter": "python",
   "pygments_lexer": "ipython3",
   "version": "3.9.13"
  }
 },
 "nbformat": 4,
 "nbformat_minor": 5
}
